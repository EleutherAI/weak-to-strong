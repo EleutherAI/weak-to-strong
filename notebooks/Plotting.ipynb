{
 "cells": [
  {
   "cell_type": "markdown",
   "id": "15e1bbfa",
   "metadata": {},
   "source": [
    "# Load a summary of results"
   ]
  },
  {
   "cell_type": "code",
   "execution_count": null,
   "id": "0890330f",
   "metadata": {},
   "outputs": [],
   "source": [
    "import matplotlib.pyplot as plt\n",
    "import seaborn as sns\n",
    "sns.set_style('whitegrid')\n",
    "\n",
    "import pandas as pd\n",
    "\n",
    "from notebooks.results import load_run_result, find_run_paths\n",
    "\n",
    "datasets = [\n",
    "    \"boolq\",\n",
    "    \"cosmos_qa\",\n",
    "    \"dream\",\n",
    "    \"ethics_justice\",\n",
    "    \"ethics_deontology\",\n",
    "    \"ethics_virtue\",\n",
    "    \"ethics_utilitarianism\",\n",
    "    \"anli-r2\",\n",
    "    \"cola\",\n",
    "    \"sst2\",\n",
    "    \"hellaswag\",\n",
    "    \"mc_taco\",\n",
    "    \"openbookqa\",\n",
    "    \"paws\",\n",
    "    \"quail\",\n",
    "    \"piqa\",\n",
    "    \"quartz\",\n",
    "    \"sciq\",\n",
    "    \"social_i_qa\",\n",
    "    \"multirc\",  \n",
    "    \"wic\",  \n",
    "    \"twitter_sentiment\",  \n",
    "]\n",
    "\n",
    "all_rs = dict()\n",
    "df = []\n",
    "root = \"/mnt/ssd-1/alexm/weak-to-strong/results/logconf/\"\n",
    "sms = \"meta-llama/Meta-Llama-3-8B\"\n",
    "print(f\"Strong model: {sms}\")\n",
    "for ds_name in datasets:\n",
    "    print(f\"Loading {ds_name}\")\n",
    "    try:\n",
    "        paths = find_run_paths(root, ds_name, strong_model=sms)\n",
    "\n",
    "        r_all = load_run_result(**paths)\n",
    "        print(f\"Weak floor: {r_all.weak_acc:.2f}\")\n",
    "        print(f\"Strong ceiling: {r_all.strong_acc:.2f}\")\n",
    "        print(f\"W2S: {r_all.w2s_acc:.2f} (PGR: {r_all.pgr:.2f})\")\n",
    "        all_rs[ds_name] = r_all\n",
    "        df.append({\n",
    "            \"dataset\": ds_name,\n",
    "            \"weak_floor\": r_all.weak_acc,\n",
    "            \"strong_ceiling\": r_all.strong_acc,\n",
    "            \"w2s\": r_all.w2s_acc,\n",
    "            \"pgr\": r_all.pgr,\n",
    "            **r_all.cfg\n",
    "        })\n",
    "\n",
    "    except (AssertionError, FileNotFoundError) as e:\n",
    "        print(f\"Failed to load {ds_name}: {e}\")\n",
    "        continue\n",
    "\n",
    "df = pd.DataFrame(df)"
   ]
  },
  {
   "cell_type": "code",
   "execution_count": null,
   "id": "1726eace",
   "metadata": {},
   "outputs": [],
   "source": [
    "sns.barplot(data=df, x=\"ds_name\", y=\"pgr\")\n",
    "plt.title(\"logconf\")"
   ]
  }
 ],
 "metadata": {
  "kernelspec": {
   "display_name": "openai",
   "language": "python",
   "name": "python3"
  },
  "language_info": {
   "codemirror_mode": {
    "name": "ipython",
    "version": 3
   },
   "file_extension": ".py",
   "mimetype": "text/x-python",
   "name": "python",
   "nbconvert_exporter": "python",
   "pygments_lexer": "ipython3",
   "version": "3.11.7"
  }
 },
 "nbformat": 4,
 "nbformat_minor": 5
}
